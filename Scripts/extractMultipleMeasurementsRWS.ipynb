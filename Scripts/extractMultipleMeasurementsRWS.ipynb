{
 "cells": [
  {
   "cell_type": "markdown",
   "metadata": {},
   "source": [
    "## Requesting and combining multiple Jupyter notebooksOpvragen en combineren van meerdere jupyter notebooks\n",
    "\n"
   ]
  },
  {
   "cell_type": "markdown",
   "metadata": {},
   "source": [
    "### Retrieve JSON objects for the desired locations\n",
    "Based on the location codes, we need more information about the locations.\n",
    "The API Request body will need to be filled with information about the locations to inform the API about the data we need from it."
   ]
  },
  {
   "cell_type": "code",
   "execution_count": 1,
   "metadata": {},
   "outputs": [
    {
     "name": "stdout",
     "output_type": "stream",
     "text": [
      "      Locatie_MessageID Coordinatenstelsel              X             Y  \\\n",
      "2042               5377              25831  496708.794769  5.963122e+06   \n",
      "2047              12760              25831  603084.756918  5.813701e+06   \n",
      "2053              14674              25831  542240.426001  5.902123e+06   \n",
      "2386              15429              25831  542904.767181  5.735254e+06   \n",
      "\n",
      "                       Naam Code  \n",
      "2042            J6 platform   J6  \n",
      "2047  IJgeul stroommeetpaal  SPY  \n",
      "2053           K14 platform  K14  \n",
      "2386  Brouwershavense Gat 2  BG2  \n"
     ]
    }
   ],
   "source": [
    "import pandas as pd\n",
    "import json\n",
    "\n",
    "file = './../Data/Raw/rws_catalog.json'\n",
    "with open(file, 'r') as f:\n",
    "    data = json.load(f)\n",
    "\n",
    "locatie_codes = ['J6', 'K14', 'SPY', 'BG2']\n",
    "df_LocatieLijst = pd.DataFrame(data['LocatieLijst'])\n",
    "df_LocatieLijstFiltered = df_LocatieLijst[df_LocatieLijst['Code'].isin(locatie_codes)].drop_duplicates(subset='Code', keep='first')\n",
    "\n",
    "print(df_LocatieLijstFiltered)\n"
   ]
  },
  {
   "cell_type": "markdown",
   "metadata": {},
   "source": [
    "### Retrieve the parameters for measurements\n",
    "To retrieve a bulk of data, it is useful to obtain all other information based on the code of a parameter. This information is needed to fill the JSON request body, so the API knows which data needs to be retrieved."
   ]
  },
  {
   "cell_type": "code",
   "execution_count": 2,
   "metadata": {},
   "outputs": [
    {
     "data": {
      "text/html": [
       "<div>\n",
       "<style scoped>\n",
       "    .dataframe tbody tr th:only-of-type {\n",
       "        vertical-align: middle;\n",
       "    }\n",
       "\n",
       "    .dataframe tbody tr th {\n",
       "        vertical-align: top;\n",
       "    }\n",
       "\n",
       "    .dataframe thead th {\n",
       "        text-align: right;\n",
       "    }\n",
       "</style>\n",
       "<table border=\"1\" class=\"dataframe\">\n",
       "  <thead>\n",
       "    <tr style=\"text-align: right;\">\n",
       "      <th></th>\n",
       "      <th>AquoMetadata_MessageID</th>\n",
       "      <th>Parameter_Wat_Omschrijving</th>\n",
       "      <th>Compartiment.Code</th>\n",
       "      <th>Compartiment.Omschrijving</th>\n",
       "      <th>Grootheid.Code</th>\n",
       "      <th>Grootheid.Omschrijving</th>\n",
       "    </tr>\n",
       "  </thead>\n",
       "  <tbody>\n",
       "    <tr>\n",
       "      <th>17</th>\n",
       "      <td>18</td>\n",
       "      <td>Windrichting Lucht t.o.v. ware Noorden in graad</td>\n",
       "      <td>LT</td>\n",
       "      <td>Lucht</td>\n",
       "      <td>WINDRTG</td>\n",
       "      <td>Windrichting</td>\n",
       "    </tr>\n",
       "    <tr>\n",
       "      <th>19</th>\n",
       "      <td>20</td>\n",
       "      <td>Windsnelheid Lucht t.o.v. Mean Sea Level in m/s</td>\n",
       "      <td>LT</td>\n",
       "      <td>Lucht</td>\n",
       "      <td>WINDSHD</td>\n",
       "      <td>Windsnelheid</td>\n",
       "    </tr>\n",
       "    <tr>\n",
       "      <th>61</th>\n",
       "      <td>62</td>\n",
       "      <td>Significante golfhoogte in het spectrale domei...</td>\n",
       "      <td>OW</td>\n",
       "      <td>Oppervlaktewater</td>\n",
       "      <td>Hm0</td>\n",
       "      <td>Significante golfhoogte in het spectrale domein</td>\n",
       "    </tr>\n",
       "    <tr>\n",
       "      <th>92</th>\n",
       "      <td>93</td>\n",
       "      <td>Gemiddelde golfrichting in het spectrale domei...</td>\n",
       "      <td>OW</td>\n",
       "      <td>Oppervlaktewater</td>\n",
       "      <td>Th0</td>\n",
       "      <td>Gemiddelde golfrichting in het spectrale domein</td>\n",
       "    </tr>\n",
       "    <tr>\n",
       "      <th>97</th>\n",
       "      <td>98</td>\n",
       "      <td>Golfperiode bepaald uit de spectrale momenten ...</td>\n",
       "      <td>OW</td>\n",
       "      <td>Oppervlaktewater</td>\n",
       "      <td>Tm02</td>\n",
       "      <td>Golfperiode bepaald uit de spectrale momenten ...</td>\n",
       "    </tr>\n",
       "  </tbody>\n",
       "</table>\n",
       "</div>"
      ],
      "text/plain": [
       "    AquoMetadata_MessageID                         Parameter_Wat_Omschrijving  \\\n",
       "17                      18    Windrichting Lucht t.o.v. ware Noorden in graad   \n",
       "19                      20    Windsnelheid Lucht t.o.v. Mean Sea Level in m/s   \n",
       "61                      62  Significante golfhoogte in het spectrale domei...   \n",
       "92                      93  Gemiddelde golfrichting in het spectrale domei...   \n",
       "97                      98  Golfperiode bepaald uit de spectrale momenten ...   \n",
       "\n",
       "   Compartiment.Code Compartiment.Omschrijving Grootheid.Code  \\\n",
       "17                LT                     Lucht        WINDRTG   \n",
       "19                LT                     Lucht        WINDSHD   \n",
       "61                OW          Oppervlaktewater            Hm0   \n",
       "92                OW          Oppervlaktewater            Th0   \n",
       "97                OW          Oppervlaktewater           Tm02   \n",
       "\n",
       "                               Grootheid.Omschrijving  \n",
       "17                                       Windrichting  \n",
       "19                                       Windsnelheid  \n",
       "61    Significante golfhoogte in het spectrale domein  \n",
       "92    Gemiddelde golfrichting in het spectrale domein  \n",
       "97  Golfperiode bepaald uit de spectrale momenten ...  "
      ]
     },
     "execution_count": 2,
     "metadata": {},
     "output_type": "execute_result"
    }
   ],
   "source": [
    "import pandas as pd\n",
    "import json\n",
    "\n",
    "\n",
    "parameterGrootheid_codes = ['WINDRTG', 'WINDSHD', 'Tm02', 'Hm0','Th0']\n",
    "\n",
    "AquoMetadataLijst = pd.json_normalize(data['AquoMetadataLijst'])\n",
    "df_AquoMetadataLijst = pd.DataFrame(AquoMetadataLijst)\n",
    "df_AquoMetadataLijstFiltered = df_AquoMetadataLijst[df_AquoMetadataLijst['Grootheid.Code'].isin(parameterGrootheid_codes)]\n",
    "\n",
    "df_AquoMetadataLijstFiltered.head()"
   ]
  },
  {
   "cell_type": "markdown",
   "metadata": {},
   "source": [
    "### Loop through all the requests\n",
    "In this code, you select a start and end date for which you want to retrieve your data. Then, you loop through the list of locations and parameters to retrieve all measurements for this period."
   ]
  },
  {
   "cell_type": "code",
   "execution_count": 4,
   "metadata": {},
   "outputs": [
    {
     "name": "stdout",
     "output_type": "stream",
     "text": [
      "RWS_J6_WINDRTG\n",
      "RWS_J6_WINDSHD\n",
      "RWS_J6_Hm0\n",
      "RWS_J6_Th0\n",
      "RWS_J6_Tm02\n",
      "RWS_SPY_WINDRTG\n",
      "RWS_SPY_WINDSHD\n",
      "RWS_SPY_Hm0\n",
      "RWS_SPY_Th0\n",
      "RWS_SPY_Tm02\n",
      "RWS_K14_WINDRTG\n",
      "RWS_K14_WINDSHD\n",
      "RWS_K14_Hm0\n",
      "RWS_K14_Th0\n",
      "RWS_K14_Tm02\n",
      "RWS_BG2_WINDRTG\n",
      "RWS_BG2_WINDSHD\n",
      "RWS_BG2_Hm0\n",
      "RWS_BG2_Th0\n",
      "RWS_BG2_Tm02\n"
     ]
    }
   ],
   "source": [
    "\n",
    "import requests\n",
    "\n",
    "begin_datum =\"2025-01-01T10:00:00.000+01:00\"\n",
    "eind_datum =\"2025-01-27T20:00:00.000+01:00\"\n",
    "\n",
    "collect_observations = ('https://waterwebservices.rijkswaterstaat.nl/' +\n",
    "                        'ONLINEWAARNEMINGENSERVICES_DBO/' +\n",
    "                        'OphalenWaarnemingen')\n",
    "\n",
    "for i in range(0,len(locatie_codes)):\n",
    "  for j in range(0,len(parameterGrootheid_codes)):\n",
    "\n",
    "    request = {\"Locatie\":{\"X\": float(df_LocatieLijstFiltered['X'].iloc[i]),\n",
    "                          \"Y\": float(df_LocatieLijstFiltered['Y'].iloc[i]),\n",
    "                          \"Naam\": df_LocatieLijstFiltered['Naam'].iloc[i],\n",
    "                          \"Code\": df_LocatieLijstFiltered['Code'].iloc[i]},\n",
    "                \"AquoPlusWaarnemingMetadata\":{\n",
    "                  \"AquoMetadata\":{\"Compartiment\":{\"Code\":df_AquoMetadataLijstFiltered['Compartiment.Code'].iloc[j]}, \n",
    "                                  \"Grootheid\":{\"Code\":df_AquoMetadataLijstFiltered['Grootheid.Code'].iloc[j]}}},\n",
    "                \"Periode\":{\n",
    "                  \"Begindatumtijd\":begin_datum,\n",
    "                  \"Einddatumtijd\":eind_datum}}\n",
    "    \n",
    "    print(\"RWS_{0}_{1}\".format(df_LocatieLijstFiltered['Code'].iloc[i],\n",
    "                               df_AquoMetadataLijstFiltered['Grootheid.Code'].iloc[j]))\n",
    "\n",
    "    resp = requests.post(collect_observations, json=request) # Zet deze aan om gegevens op te halen\n",
    "    result = resp.json()\n",
    "    output_file = r\"./../Data/Raw/RWS_{0}_{1}.json\".format(df_LocatieLijstFiltered['Code'].iloc[i], df_AquoMetadataLijstFiltered['Grootheid.Code'].iloc[j])\n",
    "    with open(output_file, 'w') as f:\n",
    "        json.dump(result, f, indent=4)"
   ]
  }
 ],
 "metadata": {
  "kernelspec": {
   "display_name": "Python 3",
   "language": "python",
   "name": "python3"
  },
  "language_info": {
   "codemirror_mode": {
    "name": "ipython",
    "version": 3
   },
   "file_extension": ".py",
   "mimetype": "text/x-python",
   "name": "python",
   "nbconvert_exporter": "python",
   "pygments_lexer": "ipython3",
   "version": "3.13.1"
  }
 },
 "nbformat": 4,
 "nbformat_minor": 2
}
